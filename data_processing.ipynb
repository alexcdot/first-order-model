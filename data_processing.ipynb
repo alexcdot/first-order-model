{
 "cells": [
  {
   "cell_type": "code",
   "execution_count": 1,
   "metadata": {},
   "outputs": [
    {
     "name": "stderr",
     "output_type": "stream",
     "text": [
      "\n",
      "Bad key \"text.kerning_factor\" on line 4 in\n",
      "/home/ubuntu/anaconda3/envs/pytorch_p36/lib/python3.7/site-packages/matplotlib/mpl-data/stylelib/_classic_test_patch.mplstyle.\n",
      "You probably need to get an updated matplotlibrc file from\n",
      "https://github.com/matplotlib/matplotlib/blob/v3.1.3/matplotlibrc.template\n",
      "or from the matplotlib source distribution\n",
      "                                                                    "
     ]
    },
    {
     "name": "stdout",
     "output_type": "stream",
     "text": [
      "dims: (336, 596, 3)\n",
      "Moviepy - Building video data/trump_cropped_ice.mp4.\n",
      "MoviePy - Writing audio in trump_cropped_iceTEMP_MPY_wvf_snd.mp3\n"
     ]
    },
    {
     "name": "stderr",
     "output_type": "stream",
     "text": [
      "t:  41%|████      | 64/156 [00:00<00:00, 629.26it/s, now=None]"
     ]
    },
    {
     "name": "stdout",
     "output_type": "stream",
     "text": [
      "MoviePy - Done.\n",
      "Moviepy - Writing video data/trump_cropped_ice.mp4\n",
      "\n"
     ]
    },
    {
     "name": "stderr",
     "output_type": "stream",
     "text": [
      "                                                               "
     ]
    },
    {
     "name": "stdout",
     "output_type": "stream",
     "text": [
      "Moviepy - Done !\n",
      "Moviepy - video ready data/trump_cropped_ice.mp4\n"
     ]
    },
    {
     "name": "stderr",
     "output_type": "stream",
     "text": []
    }
   ],
   "source": [
    "from moviepy.editor import *\n",
    "import os\n",
    "\n",
    "ice_clip = VideoFileClip('data/trump_ice.webm')\n",
    "print('dims:', ice_clip.get_frame(0).shape)\n",
    "\n",
    "def create_crop_func(y1, y2, x1, x2):\n",
    "    def crop(image):\n",
    "        return image[y1:y2, x1:x2,:]\n",
    "    \n",
    "    return crop\n",
    "\n",
    "#336 x 596\n",
    "crop_func = create_crop_func(10, 150, 230, 370)\n",
    "\n",
    "cropped_ice = ice_clip.fl_image(crop_func).subclip(0, 6.5)\n",
    "cropped_ice.write_videofile('data/trump_cropped_ice.mp4')"
   ]
  },
  {
   "cell_type": "code",
   "execution_count": 14,
   "metadata": {},
   "outputs": [],
   "source": [
    "from shutil import copy\n",
    "\n",
    "root_photo_dir = 'data/blacker_pics'\n",
    "for location in os.listdir(root_photo_dir):\n",
    "    sub_dir = os.path.join(root_photo_dir, location)\n",
    "    if os.path.isdir(sub_dir):\n",
    "        for file in os.listdir(sub_dir):\n",
    "            if 'image' in file and 'jpg' not in file:\n",
    "                \n",
    "                new_file = file.replace('(', '_').replace(')', '') + '.jpg'\n",
    "                copy(os.path.join(sub_dir, file), os.path.join(sub_dir, new_file))"
   ]
  },
  {
   "cell_type": "code",
   "execution_count": null,
   "metadata": {},
   "outputs": [],
   "source": []
  }
 ],
 "metadata": {
  "kernelspec": {
   "display_name": "Environment (conda_pytorch_p36)",
   "language": "python",
   "name": "conda_pytorch_p36"
  },
  "language_info": {
   "codemirror_mode": {
    "name": "ipython",
    "version": 3
   },
   "file_extension": ".py",
   "mimetype": "text/x-python",
   "name": "python",
   "nbconvert_exporter": "python",
   "pygments_lexer": "ipython3",
   "version": "3.7.6"
  }
 },
 "nbformat": 4,
 "nbformat_minor": 2
}
